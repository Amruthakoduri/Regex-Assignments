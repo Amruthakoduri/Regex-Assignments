{
  "nbformat": 4,
  "nbformat_minor": 0,
  "metadata": {
    "colab": {
      "name": "Assignment 2",
      "provenance": [],
      "collapsed_sections": []
    },
    "kernelspec": {
      "name": "python3",
      "display_name": "Python 3"
    },
    "language_info": {
      "name": "python"
    }
  },
  "cells": [
    {
      "cell_type": "markdown",
      "source": [
        "#Assignment 2\n",
        "REGex Software Services\n",
        "REFERRAL CODE: DIRSS3131\n",
        "DataScience Specialization Batch D- January 2022\n",
        "Amrutha Koduri"
      ],
      "metadata": {
        "id": "YLJbCRv6J_UM"
      }
    },
    {
      "cell_type": "code",
      "execution_count": 9,
      "metadata": {
        "colab": {
          "base_uri": "https://localhost:8080/"
        },
        "id": "YwxJI80WWMCy",
        "outputId": "fddfacfa-3619-4ff4-dea6-82b1eab9ea75"
      },
      "outputs": [
        {
          "output_type": "stream",
          "name": "stdout",
          "text": [
            "hello\n"
          ]
        }
      ],
      "source": [
        "#Q1. Write a lambda expression to extract first word of a string.\n",
        "s= lambda x: x[:x.index(' ')]\n",
        "print(s('hello world'))"
      ]
    },
    {
      "cell_type": "code",
      "source": [
        "#Q2. Write a function to extract first word of s string (with many words separated by space).\n",
        "def print_first_word(s):\n",
        "  print(s.split().pop(0))\n",
        "s=input()\n",
        "print_first_word(s)"
      ],
      "metadata": {
        "colab": {
          "base_uri": "https://localhost:8080/"
        },
        "id": "QP7qb78BCGh-",
        "outputId": "b44ddada-38a6-418d-c1e8-29e5a1002a3e"
      },
      "execution_count": 10,
      "outputs": [
        {
          "output_type": "stream",
          "name": "stdout",
          "text": [
            "hello world\n",
            "hello\n"
          ]
        }
      ]
    },
    {
      "cell_type": "code",
      "source": [
        "#Q3. Extract the first word from every string from a list of strings by using map function.\n",
        "def print_first_word(s):\n",
        "  return s.split().pop(0)\n",
        "\n",
        "strs = [\"hi hello\",\"how are you\",\"what are you doing\"]\n",
        "first_words = list(map(print_first_word, strs))\n",
        "print(first_words)"
      ],
      "metadata": {
        "colab": {
          "base_uri": "https://localhost:8080/"
        },
        "id": "Smwubp_6C_0J",
        "outputId": "c4999946-110e-4921-c487-c41e7a52e2aa"
      },
      "execution_count": 11,
      "outputs": [
        {
          "output_type": "stream",
          "name": "stdout",
          "text": [
            "['hi', 'how', 'what']\n"
          ]
        }
      ]
    },
    {
      "cell_type": "code",
      "source": [
        "#Q4. Write a function to return a list of prime factors of a given number.\n",
        "# Python program to print prime factors\n",
        "\n",
        "import math\n",
        "def primeFactors(n):\n",
        "  while n % 2 == 0:\n",
        "    print(\" 2\",end='')\n",
        "    n = n / 2\n",
        "  for i in range(3,int(math.sqrt(n))+1,2):\n",
        "    while n % i== 0:\n",
        "      print(i,' ',end='')\n",
        "      n = n / i\n",
        "  if n > 2:\n",
        "    print(n+' ',end='')\n",
        "n = 315\n",
        "primeFactors(n)"
      ],
      "metadata": {
        "colab": {
          "base_uri": "https://localhost:8080/"
        },
        "id": "B5cYcMY4D1D8",
        "outputId": "bd391266-270b-4ffc-e67f-afaef29179f3"
      },
      "execution_count": 12,
      "outputs": [
        {
          "output_type": "stream",
          "name": "stdout",
          "text": [
            "3  3  5  7  "
          ]
        }
      ]
    },
    {
      "cell_type": "code",
      "source": [
        "#Q5. Write a function that finds 2nd largest among 4 numbers (Repetitions are allowed,without sorting).\n",
        "def calc_largest(arr):  \n",
        "    second_largest = arr[0]  \n",
        "    largest_val = arr[0]  \n",
        "    for i in range(len(arr)):  \n",
        "        if arr[i] > largest_val:  \n",
        "            largest_val = arr[i]  \n",
        "    for i in range(len(arr)):  \n",
        "        if arr[i] > second_largest and arr[i] != largest_val:  \n",
        "            second_largest = arr[i]  \n",
        "    return second_largest  \n",
        "\n",
        "print(calc_largest([4,2,7,3]))  \n"
      ],
      "metadata": {
        "colab": {
          "base_uri": "https://localhost:8080/"
        },
        "id": "WccJkx_QD06F",
        "outputId": "e76fedc0-299a-4735-9193-86509fb4d7f6"
      },
      "execution_count": 13,
      "outputs": [
        {
          "output_type": "stream",
          "name": "stdout",
          "text": [
            "4\n"
          ]
        }
      ]
    },
    {
      "cell_type": "code",
      "source": [
        "#Q6. Take an input from the user as string and find out all the non duplicate words from the input\n",
        "s=input()\n",
        "words= s.split(\" \")\n",
        "dicta=dict()\n",
        "for i in words:\n",
        "  if i in dicta:\n",
        "    dicta[i]+=1\n",
        "  else:\n",
        "    dicta[i]=1\n",
        "for i in words:\n",
        "  if dicta[i]==1:\n",
        "    print(i,end=' ')"
      ],
      "metadata": {
        "colab": {
          "base_uri": "https://localhost:8080/"
        },
        "id": "x9WH6dbVD0vj",
        "outputId": "86ce3f62-ad81-4604-deea-98a0711ac239"
      },
      "execution_count": 14,
      "outputs": [
        {
          "output_type": "stream",
          "name": "stdout",
          "text": [
            "Hi hello how are you Hi how is your pet\n",
            "hello are you is your pet "
          ]
        }
      ]
    },
    {
      "cell_type": "code",
      "source": [
        "#Q7. Take a input from the user and verify the data is a palindrome or not\n",
        "def isPalindrome(s):\n",
        "    return s == s[::-1]\n",
        " \n",
        "s = \"appa\"\n",
        "x = isPalindrome(s)\n",
        "if x:\n",
        "    print(\"Yes\")\n",
        "else:\n",
        "    print(\"No\")\n"
      ],
      "metadata": {
        "colab": {
          "base_uri": "https://localhost:8080/"
        },
        "id": "-kr3yjUkD0b0",
        "outputId": "74326ff4-1378-40e9-d276-8943a809d98c"
      },
      "execution_count": 15,
      "outputs": [
        {
          "output_type": "stream",
          "name": "stdout",
          "text": [
            "Yes\n"
          ]
        }
      ]
    },
    {
      "cell_type": "code",
      "source": [
        "#Q8. Use exception handling to find out the LCM & HCF of two numbers (Input of two numbers has to be given by the user)\n",
        "def HCF(num1,num2):\n",
        "  return int((num1*num2)/LCM(num1,num2))\n",
        "def LCM(num1,num2):\n",
        "  if num1>num2:\n",
        "    lcm = num1\n",
        "  else:\n",
        "    lcm = num2\n",
        "  while True:\n",
        "    if lcm%num1==0 and lcm%num2==0:\n",
        "      break\n",
        "    else:\n",
        "      lcm += 1\n",
        "  return lcm\n",
        "\n",
        "a = int(input(\"Enter First Number : \"))\n",
        "b = int(input(\"Enter Second Number : \"))\n",
        "try:\n",
        "  lcm = LCM(a,b)\n",
        "  hcm = HCF(a,b)\n",
        "  print(f\"Least Common Multiple of {a,b} is : {lcm}\")\n",
        "  print(f\"Highest Common Factor of {a,b} is : {hcm}\")\n",
        "except ZeroDivisionError:\n",
        "  print(f\"Numbers Cannot be Zero, {ZeroDivisionError} Recieved...!!!\" )"
      ],
      "metadata": {
        "colab": {
          "base_uri": "https://localhost:8080/"
        },
        "id": "_1wvJNMM5mIZ",
        "outputId": "1cd073f3-fa8b-4b7c-d753-aa798f4508bb"
      },
      "execution_count": 16,
      "outputs": [
        {
          "output_type": "stream",
          "name": "stdout",
          "text": [
            "Enter First Number : 12\n",
            "Enter Second Number : 10\n",
            "Least Common Multiple of (12, 10) is : 60\n",
            "Highest Common Factor of (12, 10) is : 2\n"
          ]
        }
      ]
    },
    {
      "cell_type": "code",
      "source": [
        "1"
      ],
      "metadata": {
        "id": "RYtA56eY5nDI"
      },
      "execution_count": null,
      "outputs": []
    }
  ]
}