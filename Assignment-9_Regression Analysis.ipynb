{
 "cells": [
  {
   "cell_type": "markdown",
   "metadata": {},
   "source": [
    "## Assignment-9 Regression Analysis"
   ]
  },
  {
   "cell_type": "code",
   "execution_count": 224,
   "metadata": {},
   "outputs": [],
   "source": [
    "import pandas as pd\n",
    "import numpy as np\n",
    "import matplotlib.pyplot as plt\n",
    "import seaborn as sns \n",
    "from sklearn.linear_model import LinearRegression\n",
    "import statsmodels.api as sm\n",
    "sns.set()"
   ]
  },
  {
   "cell_type": "code",
   "execution_count": 225,
   "metadata": {},
   "outputs": [],
   "source": [
    "df  = pd.read_csv('Student_Marks - Sheet1.csv') "
   ]
  },
  {
   "cell_type": "code",
   "execution_count": 226,
   "metadata": {},
   "outputs": [
    {
     "data": {
      "text/html": [
       "<div>\n",
       "<style scoped>\n",
       "    .dataframe tbody tr th:only-of-type {\n",
       "        vertical-align: middle;\n",
       "    }\n",
       "\n",
       "    .dataframe tbody tr th {\n",
       "        vertical-align: top;\n",
       "    }\n",
       "\n",
       "    .dataframe thead th {\n",
       "        text-align: right;\n",
       "    }\n",
       "</style>\n",
       "<table border=\"1\" class=\"dataframe\">\n",
       "  <thead>\n",
       "    <tr style=\"text-align: right;\">\n",
       "      <th></th>\n",
       "      <th>number_courses</th>\n",
       "      <th>time_study</th>\n",
       "      <th>Marks</th>\n",
       "    </tr>\n",
       "  </thead>\n",
       "  <tbody>\n",
       "    <tr>\n",
       "      <th>0</th>\n",
       "      <td>3</td>\n",
       "      <td>4.508</td>\n",
       "      <td>19.202</td>\n",
       "    </tr>\n",
       "    <tr>\n",
       "      <th>1</th>\n",
       "      <td>4</td>\n",
       "      <td>0.096</td>\n",
       "      <td>7.734</td>\n",
       "    </tr>\n",
       "    <tr>\n",
       "      <th>2</th>\n",
       "      <td>4</td>\n",
       "      <td>3.133</td>\n",
       "      <td>13.811</td>\n",
       "    </tr>\n",
       "    <tr>\n",
       "      <th>3</th>\n",
       "      <td>6</td>\n",
       "      <td>7.909</td>\n",
       "      <td>53.018</td>\n",
       "    </tr>\n",
       "    <tr>\n",
       "      <th>4</th>\n",
       "      <td>8</td>\n",
       "      <td>7.811</td>\n",
       "      <td>55.299</td>\n",
       "    </tr>\n",
       "    <tr>\n",
       "      <th>...</th>\n",
       "      <td>...</td>\n",
       "      <td>...</td>\n",
       "      <td>...</td>\n",
       "    </tr>\n",
       "    <tr>\n",
       "      <th>126</th>\n",
       "      <td>3</td>\n",
       "      <td>6.335</td>\n",
       "      <td>32.357</td>\n",
       "    </tr>\n",
       "    <tr>\n",
       "      <th>127</th>\n",
       "      <td>3</td>\n",
       "      <td>0.301</td>\n",
       "      <td>5.609</td>\n",
       "    </tr>\n",
       "    <tr>\n",
       "      <th>128</th>\n",
       "      <td>4</td>\n",
       "      <td>7.163</td>\n",
       "      <td>41.444</td>\n",
       "    </tr>\n",
       "    <tr>\n",
       "      <th>129</th>\n",
       "      <td>7</td>\n",
       "      <td>0.309</td>\n",
       "      <td>12.027</td>\n",
       "    </tr>\n",
       "    <tr>\n",
       "      <th>130</th>\n",
       "      <td>3</td>\n",
       "      <td>6.335</td>\n",
       "      <td>32.357</td>\n",
       "    </tr>\n",
       "  </tbody>\n",
       "</table>\n",
       "<p>131 rows × 3 columns</p>\n",
       "</div>"
      ],
      "text/plain": [
       "     number_courses  time_study   Marks\n",
       "0                 3       4.508  19.202\n",
       "1                 4       0.096   7.734\n",
       "2                 4       3.133  13.811\n",
       "3                 6       7.909  53.018\n",
       "4                 8       7.811  55.299\n",
       "..              ...         ...     ...\n",
       "126               3       6.335  32.357\n",
       "127               3       0.301   5.609\n",
       "128               4       7.163  41.444\n",
       "129               7       0.309  12.027\n",
       "130               3       6.335  32.357\n",
       "\n",
       "[131 rows x 3 columns]"
      ]
     },
     "execution_count": 226,
     "metadata": {},
     "output_type": "execute_result"
    }
   ],
   "source": [
    "df"
   ]
  },
  {
   "cell_type": "code",
   "execution_count": 227,
   "metadata": {},
   "outputs": [
    {
     "data": {
      "text/html": [
       "<div>\n",
       "<style scoped>\n",
       "    .dataframe tbody tr th:only-of-type {\n",
       "        vertical-align: middle;\n",
       "    }\n",
       "\n",
       "    .dataframe tbody tr th {\n",
       "        vertical-align: top;\n",
       "    }\n",
       "\n",
       "    .dataframe thead th {\n",
       "        text-align: right;\n",
       "    }\n",
       "</style>\n",
       "<table border=\"1\" class=\"dataframe\">\n",
       "  <thead>\n",
       "    <tr style=\"text-align: right;\">\n",
       "      <th></th>\n",
       "      <th>number_courses</th>\n",
       "      <th>time_study</th>\n",
       "      <th>Marks</th>\n",
       "    </tr>\n",
       "  </thead>\n",
       "  <tbody>\n",
       "    <tr>\n",
       "      <th>count</th>\n",
       "      <td>131.000000</td>\n",
       "      <td>127.000000</td>\n",
       "      <td>122.000000</td>\n",
       "    </tr>\n",
       "    <tr>\n",
       "      <th>mean</th>\n",
       "      <td>5.251908</td>\n",
       "      <td>3.880661</td>\n",
       "      <td>23.427475</td>\n",
       "    </tr>\n",
       "    <tr>\n",
       "      <th>std</th>\n",
       "      <td>1.820159</td>\n",
       "      <td>2.340316</td>\n",
       "      <td>13.812173</td>\n",
       "    </tr>\n",
       "    <tr>\n",
       "      <th>min</th>\n",
       "      <td>2.000000</td>\n",
       "      <td>0.096000</td>\n",
       "      <td>5.609000</td>\n",
       "    </tr>\n",
       "    <tr>\n",
       "      <th>25%</th>\n",
       "      <td>4.000000</td>\n",
       "      <td>1.968000</td>\n",
       "      <td>12.151250</td>\n",
       "    </tr>\n",
       "    <tr>\n",
       "      <th>50%</th>\n",
       "      <td>5.000000</td>\n",
       "      <td>3.919000</td>\n",
       "      <td>19.680500</td>\n",
       "    </tr>\n",
       "    <tr>\n",
       "      <th>75%</th>\n",
       "      <td>7.000000</td>\n",
       "      <td>6.103000</td>\n",
       "      <td>32.076750</td>\n",
       "    </tr>\n",
       "    <tr>\n",
       "      <th>max</th>\n",
       "      <td>8.000000</td>\n",
       "      <td>7.957000</td>\n",
       "      <td>55.299000</td>\n",
       "    </tr>\n",
       "  </tbody>\n",
       "</table>\n",
       "</div>"
      ],
      "text/plain": [
       "       number_courses  time_study       Marks\n",
       "count      131.000000  127.000000  122.000000\n",
       "mean         5.251908    3.880661   23.427475\n",
       "std          1.820159    2.340316   13.812173\n",
       "min          2.000000    0.096000    5.609000\n",
       "25%          4.000000    1.968000   12.151250\n",
       "50%          5.000000    3.919000   19.680500\n",
       "75%          7.000000    6.103000   32.076750\n",
       "max          8.000000    7.957000   55.299000"
      ]
     },
     "execution_count": 227,
     "metadata": {},
     "output_type": "execute_result"
    }
   ],
   "source": [
    "df.describe()"
   ]
  },
  {
   "cell_type": "code",
   "execution_count": 228,
   "metadata": {},
   "outputs": [
    {
     "data": {
      "text/plain": [
       "number_courses    0\n",
       "time_study        4\n",
       "Marks             9\n",
       "dtype: int64"
      ]
     },
     "execution_count": 228,
     "metadata": {},
     "output_type": "execute_result"
    }
   ],
   "source": [
    "df.isna().sum()"
   ]
  },
  {
   "cell_type": "code",
   "execution_count": 229,
   "metadata": {},
   "outputs": [
    {
     "data": {
      "text/plain": [
       "number_courses    False\n",
       "time_study         True\n",
       "Marks              True\n",
       "dtype: bool"
      ]
     },
     "execution_count": 229,
     "metadata": {},
     "output_type": "execute_result"
    }
   ],
   "source": [
    "df.isna().any()"
   ]
  },
  {
   "cell_type": "code",
   "execution_count": 230,
   "metadata": {},
   "outputs": [
    {
     "data": {
      "text/plain": [
       "4"
      ]
     },
     "execution_count": 230,
     "metadata": {},
     "output_type": "execute_result"
    }
   ],
   "source": [
    "df['time_study'].isna().sum()"
   ]
  },
  {
   "cell_type": "code",
   "execution_count": 231,
   "metadata": {},
   "outputs": [],
   "source": [
    "df['time_study'].fillna(df['time_study'].mean(),inplace = True)"
   ]
  },
  {
   "cell_type": "code",
   "execution_count": 232,
   "metadata": {},
   "outputs": [
    {
     "data": {
      "text/plain": [
       "9"
      ]
     },
     "execution_count": 232,
     "metadata": {},
     "output_type": "execute_result"
    }
   ],
   "source": [
    "df['Marks'].isna().sum()"
   ]
  },
  {
   "cell_type": "code",
   "execution_count": 233,
   "metadata": {},
   "outputs": [],
   "source": [
    "df['Marks'].fillna(df['Marks'].median(),inplace = True)"
   ]
  },
  {
   "cell_type": "code",
   "execution_count": 234,
   "metadata": {},
   "outputs": [
    {
     "data": {
      "text/plain": [
       "number_courses    0\n",
       "time_study        0\n",
       "Marks             0\n",
       "dtype: int64"
      ]
     },
     "execution_count": 234,
     "metadata": {},
     "output_type": "execute_result"
    }
   ],
   "source": [
    "df.isna().sum()"
   ]
  },
  {
   "cell_type": "code",
   "execution_count": 235,
   "metadata": {},
   "outputs": [],
   "source": [
    "bar_data = pd.DataFrame(df['number_courses'].value_counts()).reset_index()"
   ]
  },
  {
   "cell_type": "code",
   "execution_count": 236,
   "metadata": {},
   "outputs": [
    {
     "data": {
      "text/plain": [
       "<AxesSubplot:ylabel='time_study'>"
      ]
     },
     "execution_count": 236,
     "metadata": {},
     "output_type": "execute_result"
    },
    {
     "data": {
      "image/png": "[encoded data removed]",
      "text/plain": [
       "<Figure size 432x288 with 1 Axes>"
      ]
     },
     "metadata": {},
     "output_type": "display_data"
    }
   ],
   "source": [
    "sns.boxplot(y=\"time_study\", data = df)"
   ]
  },
  {
   "cell_type": "code",
   "execution_count": 237,
   "metadata": {},
   "outputs": [
    {
     "data": {
      "text/plain": [
       "<AxesSubplot:ylabel='Marks'>"
      ]
     },
     "execution_count": 237,
     "metadata": {},
     "output_type": "execute_result"
    },
    {
     "data": {
      "image/png": "[encoded data removed]",
      "text/plain": [
       "<Figure size 432x288 with 1 Axes>"
      ]
     },
     "metadata": {},
     "output_type": "display_data"
    }
   ],
   "source": [
    "sns.boxplot(y=\"Marks\", data = df)"
   ]
  },
  {
   "cell_type": "code",
   "execution_count": 238,
   "metadata": {},
   "outputs": [
    {
     "data": {
      "image/png": "[encoded data removed]",
      "text/plain": [
       "<Figure size 432x288 with 1 Axes>"
      ]
     },
     "metadata": {},
     "output_type": "display_data"
    }
   ],
   "source": [
    "sns.regplot(data = df,x = 'time_study',y = 'Marks',color='red')\n",
    "plt.show()"
   ]
  },
  {
   "cell_type": "markdown",
   "metadata": {},
   "source": [
    "## Simple Linear Regression"
   ]
  },
  {
   "cell_type": "code",
   "execution_count": 239,
   "metadata": {},
   "outputs": [],
   "source": [
    "x1_simple = df['time_study']\n",
    "y_simple = df['Marks']"
   ]
  },
  {
   "cell_type": "code",
   "execution_count": 240,
   "metadata": {},
   "outputs": [
    {
     "data": {
      "image/png": "[encoded data removed]",
      "text/plain": [
       "<Figure size 432x288 with 1 Axes>"
      ]
     },
     "metadata": {},
     "output_type": "display_data"
    }
   ],
   "source": [
    "plt.scatter(x1_simple,y_simple,s=20,c='blue',marker='*')\n",
    "plt.xlabel('x1_simple')\n",
    "plt.ylabel('y_simple')\n",
    "plt.show()"
   ]
  },
  {
   "cell_type": "code",
   "execution_count": 241,
   "metadata": {},
   "outputs": [
    {
     "data": {
      "text/plain": [
       "<AxesSubplot:>"
      ]
     },
     "execution_count": 241,
     "metadata": {},
     "output_type": "execute_result"
    },
    {
     "data": {
      "image/png": "[encoded data removed]",
      "text/plain": [
       "<Figure size 432x288 with 2 Axes>"
      ]
     },
     "metadata": {},
     "output_type": "display_data"
    }
   ],
   "source": [
    "sns.heatmap(df.corr(), annot=True)"
   ]
  },
  {
   "cell_type": "code",
   "execution_count": 242,
   "metadata": {},
   "outputs": [],
   "source": [
    "x=x1_simple.values.reshape(-1,1)\n",
    "y=y_simple.values.reshape(-1,1)\n",
    "\n",
    "reg=LinearRegression()\n",
    "\n",
    "#predict ytrain values\n",
    "reg.fit(x,y)\n",
    "y_pred=reg.predict(x)\n"
   ]
  },
  {
   "cell_type": "code",
   "execution_count": 243,
   "metadata": {},
   "outputs": [
    {
     "name": "stdout",
     "output_type": "stream",
     "text": [
      "                                 OLS Regression Results                                \n",
      "=======================================================================================\n",
      "Dep. Variable:                      y   R-squared (uncentered):                   0.955\n",
      "Model:                            OLS   Adj. R-squared (uncentered):              0.954\n",
      "Method:                 Least Squares   F-statistic:                              2736.\n",
      "Date:                Sat, 30 Apr 2022   Prob (F-statistic):                    3.46e-89\n",
      "Time:                        22:55:18   Log-Likelihood:                         -413.67\n",
      "No. Observations:                 131   AIC:                                      829.3\n",
      "Df Residuals:                     130   BIC:                                      832.2\n",
      "Df Model:                           1                                                  \n",
      "Covariance Type:            nonrobust                                                  \n",
      "==============================================================================\n",
      "                 coef    std err          t      P>|t|      [0.025      0.975]\n",
      "------------------------------------------------------------------------------\n",
      "x1             5.7905      0.111     52.306      0.000       5.571       6.009\n",
      "==============================================================================\n",
      "Omnibus:                        2.687   Durbin-Watson:                   1.907\n",
      "Prob(Omnibus):                  0.261   Jarque-Bera (JB):                2.555\n",
      "Skew:                           0.090   Prob(JB):                        0.279\n",
      "Kurtosis:                       3.660   Cond. No.                         1.00\n",
      "==============================================================================\n",
      "\n",
      "Notes:\n",
      "[1] R² is computed without centering (uncentered) since the model does not contain a constant.\n",
      "[2] Standard Errors assume that the covariance matrix of the errors is correctly specified.\n"
     ]
    }
   ],
   "source": [
    "import statsmodels.api as sm\n",
    "\n",
    "model = sm.OLS(y, x).fit()\n",
    "\n",
    "print(model.summary())"
   ]
  },
  {
   "cell_type": "code",
   "execution_count": 244,
   "metadata": {},
   "outputs": [
    {
     "data": {
      "image/png": "[encoded data removed]",
      "text/plain": [
       "<Figure size 432x288 with 1 Axes>"
      ]
     },
     "metadata": {},
     "output_type": "display_data"
    }
   ],
   "source": [
    "plt.scatter(x,y)\n",
    "plt.plot(x,y_pred,color=\"red\",linewidth=3)\n",
    "plt.title(\"data_prediction\")\n",
    "plt.xlabel(\"Study Hours\",fontsize = 15)\n",
    "plt.ylabel(\"Marks Obtained\", fontsize=15)\n",
    "plt.show()"
   ]
  },
  {
   "cell_type": "markdown",
   "metadata": {},
   "source": [
    "## Polynomial Regression"
   ]
  },
  {
   "cell_type": "code",
   "execution_count": 245,
   "metadata": {},
   "outputs": [],
   "source": [
    "from sklearn.preprocessing import PolynomialFeatures\n",
    "poly_reg = PolynomialFeatures(degree=2)"
   ]
  },
  {
   "cell_type": "code",
   "execution_count": 246,
   "metadata": {},
   "outputs": [],
   "source": [
    "X_poly = poly_reg.fit_transform(x)"
   ]
  },
  {
   "cell_type": "code",
   "execution_count": 247,
   "metadata": {},
   "outputs": [],
   "source": [
    "lin_reg_model2 = LinearRegression()"
   ]
  },
  {
   "cell_type": "code",
   "execution_count": 248,
   "metadata": {},
   "outputs": [
    {
     "data": {
      "text/plain": [
       "LinearRegression()"
      ]
     },
     "execution_count": 248,
     "metadata": {},
     "output_type": "execute_result"
    }
   ],
   "source": [
    "lin_reg_model2.fit(X_poly, y)"
   ]
  },
  {
   "cell_type": "code",
   "execution_count": 249,
   "metadata": {},
   "outputs": [],
   "source": [
    "y_pred2 = lin_reg_model2.predict(X_poly)"
   ]
  },
  {
   "cell_type": "code",
   "execution_count": 250,
   "metadata": {},
   "outputs": [
    {
     "data": {
      "text/plain": [
       "array([[22.83765884],\n",
       "       [10.30951078],\n",
       "       [15.88298239],\n",
       "       [51.90460421],\n",
       "       [50.83059549],\n",
       "       [16.20360526],\n",
       "       [34.03081703],\n",
       "       [17.07525066],\n",
       "       [22.25056686],\n",
       "       [34.95639839],\n",
       "       [19.32200468],\n",
       "       [19.32200468],\n",
       "       [19.32200468],\n",
       "       [19.32200468],\n",
       "       [45.9972569 ],\n",
       "       [10.26231273],\n",
       "       [21.14101746],\n",
       "       [21.45907291],\n",
       "       [15.00790734],\n",
       "       [21.37912954],\n",
       "       [31.25035086],\n",
       "       [34.17270658],\n",
       "       [49.74913119],\n",
       "       [19.82452671],\n",
       "       [24.23865972],\n",
       "       [34.55875985],\n",
       "       [12.35217338],\n",
       "       [25.16091374],\n",
       "       [18.10195363],\n",
       "       [11.06258689],\n",
       "       [10.27562458],\n",
       "       [22.06190205],\n",
       "       [10.28914874],\n",
       "       [10.90564527],\n",
       "       [19.23647052],\n",
       "       [12.04761312],\n",
       "       [10.49967052],\n",
       "       [38.66214407],\n",
       "       [20.39311135],\n",
       "       [47.96515905],\n",
       "       [15.22640708],\n",
       "       [45.28553456],\n",
       "       [38.10916631],\n",
       "       [50.43958538],\n",
       "       [10.29406438],\n",
       "       [14.45160068],\n",
       "       [17.89274205],\n",
       "       [11.30882988],\n",
       "       [12.11917734],\n",
       "       [12.37697518],\n",
       "       [18.8966093 ],\n",
       "       [24.53419239],\n",
       "       [30.59766104],\n",
       "       [19.48917764],\n",
       "       [39.66378716],\n",
       "       [20.65047233],\n",
       "       [10.38366692],\n",
       "       [33.91428384],\n",
       "       [48.47065797],\n",
       "       [15.02654996],\n",
       "       [49.00079856],\n",
       "       [49.08595999],\n",
       "       [35.16922307],\n",
       "       [47.18205542],\n",
       "       [10.2594838 ],\n",
       "       [13.41857513],\n",
       "       [17.96374643],\n",
       "       [25.12134922],\n",
       "       [10.29732657],\n",
       "       [12.58325388],\n",
       "       [29.36801212],\n",
       "       [10.28609843],\n",
       "       [11.04430745],\n",
       "       [19.67183025],\n",
       "       [18.59288679],\n",
       "       [13.66630964],\n",
       "       [23.606862  ],\n",
       "       [11.43870207],\n",
       "       [42.03632677],\n",
       "       [10.40370823],\n",
       "       [19.23647052],\n",
       "       [12.58325388],\n",
       "       [29.36801212],\n",
       "       [10.28609843],\n",
       "       [11.04430745],\n",
       "       [19.67183025],\n",
       "       [18.59288679],\n",
       "       [13.66630964],\n",
       "       [23.606862  ],\n",
       "       [10.5917722 ],\n",
       "       [11.78382615],\n",
       "       [36.71092894],\n",
       "       [20.9389725 ],\n",
       "       [14.36802404],\n",
       "       [36.73730938],\n",
       "       [33.38520706],\n",
       "       [47.00569436],\n",
       "       [10.40501048],\n",
       "       [52.43576831],\n",
       "       [12.90647047],\n",
       "       [46.58208999],\n",
       "       [16.14540308],\n",
       "       [12.1850227 ],\n",
       "       [35.19482339],\n",
       "       [20.30623541],\n",
       "       [10.5917722 ],\n",
       "       [11.78382615],\n",
       "       [36.71092894],\n",
       "       [20.9389725 ],\n",
       "       [14.36802404],\n",
       "       [12.1850227 ],\n",
       "       [35.19482339],\n",
       "       [20.30623541],\n",
       "       [10.5917722 ],\n",
       "       [20.30623541],\n",
       "       [10.5917722 ],\n",
       "       [12.1850227 ],\n",
       "       [35.19482339],\n",
       "       [20.30623541],\n",
       "       [10.5917722 ],\n",
       "       [37.55269377],\n",
       "       [19.52036242],\n",
       "       [17.75171939],\n",
       "       [10.26165317],\n",
       "       [44.08209342],\n",
       "       [10.26103025],\n",
       "       [36.35171396],\n",
       "       [10.26165317],\n",
       "       [44.08209342],\n",
       "       [10.26103025],\n",
       "       [36.35171396]])"
      ]
     },
     "execution_count": 250,
     "metadata": {},
     "output_type": "execute_result"
    }
   ],
   "source": [
    "y_pred2"
   ]
  },
  {
   "cell_type": "code",
   "execution_count": 251,
   "metadata": {},
   "outputs": [
    {
     "data": {
      "image/png": "[encoded data removed]",
      "text/plain": [
       "<Figure size 432x288 with 1 Axes>"
      ]
     },
     "metadata": {},
     "output_type": "display_data"
    }
   ],
   "source": [
    "plt.scatter(x, y, color='green', label='')\n",
    "plt.plot(x, y_pred2, color=\"red\", label='',linewidth=0.2)\n",
    "plt.title(\"Polynomial Regression\")\n",
    "plt.xlabel(\"Study Hours\",fontsize = 15)\n",
    "plt.ylabel(\"Marks Obtained\", fontsize=15)\n",
    "plt.show()"
   ]
  },
  {
   "cell_type": "code",
   "execution_count": null,
   "metadata": {},
   "outputs": [],
   "source": []
  },
  {
   "cell_type": "code",
   "execution_count": null,
   "metadata": {},
   "outputs": [],
   "source": []
  }
 ],
 "metadata": {
  "kernelspec": {
   "display_name": "Python 3",
   "language": "python",
   "name": "python3"
  },
  "language_info": {
   "codemirror_mode": {
    "name": "ipython",
    "version": 3
   },
   "file_extension": ".py",
   "mimetype": "text/x-python",
   "name": "python",
   "nbconvert_exporter": "python",
   "pygments_lexer": "ipython3",
   "version": "3.8.5"
  }
 },
 "nbformat": 4,
 "nbformat_minor": 4
}
