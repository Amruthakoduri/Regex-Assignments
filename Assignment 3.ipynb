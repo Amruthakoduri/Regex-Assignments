{
 "cells": [
  {
   "cell_type": "markdown",
   "metadata": {},
   "source": [
    "## Assignment 3 (Exception Handling)"
   ]
  },
  {
   "cell_type": "code",
   "execution_count": 88,
   "metadata": {},
   "outputs": [],
   "source": [
    "#Solution for Q1\n",
    "file = open(\"introduction.txt\",'r')\n",
    "data = file.read()"
   ]
  },
  {
   "cell_type": "code",
   "execution_count": 89,
   "metadata": {},
   "outputs": [
    {
     "name": "stdout",
     "output_type": "stream",
     "text": [
      "I'm amrutha. My ID is 7521301.\n",
      "My contact no is 75909653.\n",
      "I have joined REGex Software Services for  DataScience Specialization Batch D- January 2022.\n",
      "I live in Ongole.I am currently working as a software engineer.\n"
     ]
    }
   ],
   "source": [
    "print(data)"
   ]
  },
  {
   "cell_type": "code",
   "execution_count": 90,
   "metadata": {},
   "outputs": [],
   "source": [
    "test = data"
   ]
  },
  {
   "cell_type": "code",
   "execution_count": 91,
   "metadata": {},
   "outputs": [
    {
     "name": "stdout",
     "output_type": "stream",
     "text": [
      "I'm amrutha. My ID is 7521301.\n",
      "My contact no is 75909653.\n",
      "I have joined REGex Software Services for  DataScience Specialization Batch D- January 2022.\n",
      "I live in Ongole.I am currently working as a software engineer.\n",
      "Total Number of Lines :  4\n"
     ]
    }
   ],
   "source": [
    "lines = test.split('\\n')\n",
    "for line in lines:\n",
    "    print(line)\n",
    "print(\"Total Number of Lines : \",len(lines))  "
   ]
  },
  {
   "cell_type": "code",
   "execution_count": 92,
   "metadata": {},
   "outputs": [],
   "source": [
    "words = []\n",
    "for line in lines:\n",
    "    for word in line.split():\n",
    "        word = word.replace('.','')           \n",
    "        words.append(word)   "
   ]
  },
  {
   "cell_type": "code",
   "execution_count": 93,
   "metadata": {},
   "outputs": [
    {
     "name": "stdout",
     "output_type": "stream",
     "text": [
      "[\"I'm\", 'amrutha', 'My', 'ID', 'is', '7521301', 'My', 'contact', 'no', 'is', '75909653', 'I', 'have', 'joined', 'REGex', 'Software', 'Services', 'for', 'DataScience', 'Specialization', 'Batch', 'D-', 'January', '2022', 'I', 'live', 'in', 'OngoleI', 'am', 'currently', 'working', 'as', 'a', 'software', 'engineer']\n"
     ]
    }
   ],
   "source": [
    "print(words)  "
   ]
  },
  {
   "cell_type": "code",
   "execution_count": 94,
   "metadata": {},
   "outputs": [
    {
     "name": "stdout",
     "output_type": "stream",
     "text": [
      "['2022', '7521301', '75909653']\n"
     ]
    }
   ],
   "source": [
    "numbers = sorted(words)[0:3]          \n",
    "print(numbers)"
   ]
  },
  {
   "cell_type": "code",
   "execution_count": 95,
   "metadata": {},
   "outputs": [],
   "source": [
    "for num in numbers:\n",
    "    try:\n",
    "        words.remove(num)\n",
    "    except ValueError:\n",
    "        print(\"Values are Already Removed (or Not Present)\")         \n",
    "    break"
   ]
  },
  {
   "cell_type": "code",
   "execution_count": 96,
   "metadata": {},
   "outputs": [
    {
     "name": "stdout",
     "output_type": "stream",
     "text": [
      "[\"I'm\", 'amrutha', 'My', 'ID', 'is', '7521301', 'My', 'contact', 'no', 'is', '75909653', 'I', 'have', 'joined', 'REGex', 'Software', 'Services', 'for', 'DataScience', 'Specialization', 'Batch', 'D-', 'January', 'I', 'live', 'in', 'OngoleI', 'am', 'currently', 'working', 'as', 'a', 'software', 'engineer']\n"
     ]
    }
   ],
   "source": [
    "print(words)"
   ]
  },
  {
   "cell_type": "code",
   "execution_count": 97,
   "metadata": {},
   "outputs": [
    {
     "name": "stdout",
     "output_type": "stream",
     "text": [
      "[2022, 7521301, 75909653]\n"
     ]
    }
   ],
   "source": [
    "result = map(int,numbers)            \n",
    "numbers = list(result)\n",
    "print(numbers)"
   ]
  },
  {
   "cell_type": "code",
   "execution_count": 98,
   "metadata": {},
   "outputs": [
    {
     "name": "stdout",
     "output_type": "stream",
     "text": [
      "169\n"
     ]
    }
   ],
   "source": [
    "charcount = 0\n",
    "for word in words:\n",
    "    for char in word:\n",
    "        charcount+=1\n",
    "print(charcount)   "
   ]
  },
  {
   "cell_type": "code",
   "execution_count": 99,
   "metadata": {},
   "outputs": [
    {
     "name": "stdout",
     "output_type": "stream",
     "text": [
      "Total Number of Characters in file = 169\n",
      "Total Number of Numbers in file = 3\n",
      "Total Number of Words in file = 34\n",
      "Total Number of Lines in file = 4\n"
     ]
    }
   ],
   "source": [
    "print(f\"Total Number of Characters in file = {charcount}\")\n",
    "print(f\"Total Number of Numbers in file = {len(numbers)}\")\n",
    "print(f\"Total Number of Words in file = {len(words)}\")\n",
    "print(f\"Total Number of Lines in file = {len(lines)}\")"
   ]
  },
  {
   "cell_type": "code",
   "execution_count": 100,
   "metadata": {},
   "outputs": [
    {
     "name": "stdout",
     "output_type": "stream",
     "text": [
      "I'm amrutha. My ID is 7521301.\n",
      "My contact no is 75909653.\n",
      "I have joined REGex Software Services for  DataScience Specialization Batch D- January 2022.\n",
      "I live in Ongole.I am currently working as a software engineer.\n"
     ]
    }
   ],
   "source": [
    "file = open(\"introduction.txt\",'r')\n",
    "text = file.read()\n",
    "print(text)"
   ]
  },
  {
   "cell_type": "code",
   "execution_count": 101,
   "metadata": {},
   "outputs": [],
   "source": [
    "class WriteError(Exception):\n",
    "    \"\"\"Cannot Write text in Read Only Mode\"\"\"       \n",
    "    pass"
   ]
  },
  {
   "cell_type": "code",
   "execution_count": 102,
   "metadata": {},
   "outputs": [
    {
     "name": "stdout",
     "output_type": "stream",
     "text": [
      "Cannot Write to a File in Read Only Mode...!!! Closing the Program..\n",
      "<class '__main__.WriteError'>\n"
     ]
    }
   ],
   "source": [
    "try:\n",
    "    file = file.write(\"My Contact Number is 47495658\")\n",
    "    raise WriteError\n",
    "    \n",
    "except:\n",
    "    print(f\"Cannot Write to a File in Read Only Mode...!!! Closing the Program..\\n{WriteError}\")\n",
    "    "
   ]
  },
  {
   "cell_type": "code",
   "execution_count": 103,
   "metadata": {},
   "outputs": [
    {
     "name": "stdout",
     "output_type": "stream",
     "text": [
      "Enter the Distance to be Travelled: -34\n",
      "\n",
      "Distance Cannot be Negative.... Exiting Program...!!!\n",
      "<function NegativeDistanceError at 0x00000139A1E984C0>\n"
     ]
    }
   ],
   "source": [
    "#Solution for Q3\n",
    "def NegativeDistanceError(Exception):\n",
    "    \"Distance Cannot be Negative\"\n",
    "    pass\n",
    "\n",
    "def cal_time(kms):\n",
    "    return round(kms/10,2)             # Assume that truck travel 10KMS per day\n",
    "\n",
    "try:\n",
    "    kms = float(input(\"Enter the Distance to be Travelled: \"))\n",
    "    if kms<0.0:\n",
    "        raise NegativeDistanceError\n",
    "    else:\n",
    "        print(f\"Days Required to Travel {kms} Kilometers is:\",cal_time(kms))\n",
    "except:\n",
    "    print(f\"\\nDistance Cannot be Negative.... Exiting Program...!!!\\n{NegativeDistanceError}\")"
   ]
  },
  {
   "cell_type": "code",
   "execution_count": 104,
   "metadata": {},
   "outputs": [
    {
     "name": "stdout",
     "output_type": "stream",
     "text": [
      "Enter First Number :27\n",
      "Enter Second Number :0\n",
      "\n",
      "Division by Zero is Not Possible... Exiting Program...!!!\n",
      " <class 'ZeroDivisionError'>\n"
     ]
    }
   ],
   "source": [
    "#Solution for Q4\n",
    "def division(a,b):\n",
    "    return round(a/b,2)\n",
    "\n",
    "a= int(input(\"Enter First Number :\"))\n",
    "b= int(input(\"Enter Second Number :\"))\n",
    "try: \n",
    "    print(division(a,b))\n",
    "except:\n",
    "    print(f\"\\nDivision by Zero is Not Possible... Exiting Program...!!!\\n {ZeroDivisionError}\")"
   ]
  },
  {
   "cell_type": "code",
   "execution_count": null,
   "metadata": {},
   "outputs": [],
   "source": []
  }
 ],
 "metadata": {
  "kernelspec": {
   "display_name": "Python 3",
   "language": "python",
   "name": "python3"
  },
  "language_info": {
   "codemirror_mode": {
    "name": "ipython",
    "version": 3
   },
   "file_extension": ".py",
   "mimetype": "text/x-python",
   "name": "python",
   "nbconvert_exporter": "python",
   "pygments_lexer": "ipython3",
   "version": "3.8.5"
  }
 },
 "nbformat": 4,
 "nbformat_minor": 4
}
