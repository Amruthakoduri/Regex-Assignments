{
  "nbformat": 4,
  "nbformat_minor": 0,
  "metadata": {
    "colab": {
      "name": "Assignment 1 (Pattern Programming)",
      "provenance": [],
      "collapsed_sections": []
    },
    "kernelspec": {
      "name": "python3",
      "display_name": "Python 3"
    },
    "language_info": {
      "name": "python"
    }
  },
  "cells": [
    {
      "cell_type": "markdown",
      "source": [
        "#Assignment 1 - Pattern Programming\n",
        "REGex Software Services\n",
        "REFERRAL CODE: DIRSS3131\n",
        "DataScience Specialization Batch D- January 2022\n",
        "Amrutha Koduri"
      ],
      "metadata": {
        "id": "CHU8ie2Nl1Gh"
      }
    },
    {
      "cell_type": "code",
      "execution_count": 43,
      "metadata": {
        "colab": {
          "base_uri": "https://localhost:8080/"
        },
        "id": "LFjZXUyXwfrZ",
        "outputId": "6774fd49-64b6-4030-dc42-c8f8a22d094c"
      },
      "outputs": [
        {
          "output_type": "stream",
          "name": "stdout",
          "text": [
            "5 5 5 5 5 \n",
            "5 5 5 5 \n",
            "5 5 5 \n",
            "5 5 \n",
            "5 \n"
          ]
        }
      ],
      "source": [
        "#Q1\n",
        "x=5\n",
        "for i in range(0,x):\n",
        "  for j in range(0,(x-i)):\n",
        "    print(x,end=' ')\n",
        "  print()"
      ]
    },
    {
      "cell_type": "code",
      "source": [
        "#Q2\n",
        "for i in range(0,5):\n",
        "  for j in range(0,(6-i)):\n",
        "    print(j,end=' ')\n",
        "  print()"
      ],
      "metadata": {
        "colab": {
          "base_uri": "https://localhost:8080/"
        },
        "id": "PJemnk7owuIG",
        "outputId": "aa31da5e-f770-4f5d-ec22-7862c255a61c"
      },
      "execution_count": 44,
      "outputs": [
        {
          "output_type": "stream",
          "name": "stdout",
          "text": [
            "0 1 2 3 4 5 \n",
            "0 1 2 3 4 \n",
            "0 1 2 3 \n",
            "0 1 2 \n",
            "0 1 \n"
          ]
        }
      ]
    },
    {
      "cell_type": "code",
      "source": [
        "#Q3\n",
        "x=[1,3,5,7,9]\n",
        "for i in range(0,5):\n",
        "  for j in range(0,i+1):\n",
        "    print(x[i],end=' ')\n",
        "  print()"
      ],
      "metadata": {
        "colab": {
          "base_uri": "https://localhost:8080/"
        },
        "id": "uJhwzABC0D3S",
        "outputId": "06dbf462-4071-4dca-945e-a6d4d19f0c34"
      },
      "execution_count": 45,
      "outputs": [
        {
          "output_type": "stream",
          "name": "stdout",
          "text": [
            "1 \n",
            "3 3 \n",
            "5 5 5 \n",
            "7 7 7 7 \n",
            "9 9 9 9 9 \n"
          ]
        }
      ]
    },
    {
      "cell_type": "code",
      "source": [
        "#Q4\n",
        "for i in range(0,5):\n",
        "  x=1\n",
        "  for j in range(0,i+1):\n",
        "    print(x+i,end=' ')\n",
        "    x-=1\n",
        "  print()"
      ],
      "metadata": {
        "colab": {
          "base_uri": "https://localhost:8080/"
        },
        "id": "TLaedR22efB8",
        "outputId": "a334054e-f7d3-4c2e-fa64-c6423d1b5cba"
      },
      "execution_count": 46,
      "outputs": [
        {
          "output_type": "stream",
          "name": "stdout",
          "text": [
            "1 \n",
            "2 1 \n",
            "3 2 1 \n",
            "4 3 2 1 \n",
            "5 4 3 2 1 \n"
          ]
        }
      ]
    },
    {
      "cell_type": "code",
      "source": [
        "#Q5\n",
        "x=0\n",
        "for i in range(0,5):\n",
        "  x+=i\n",
        "  for j in range(0,i):\n",
        "    print(x-j,end=' ')\n",
        "  print()"
      ],
      "metadata": {
        "colab": {
          "base_uri": "https://localhost:8080/"
        },
        "id": "9e949ao2ghvH",
        "outputId": "87c1dcee-eccc-4c17-d75a-175de55a07ba"
      },
      "execution_count": 47,
      "outputs": [
        {
          "output_type": "stream",
          "name": "stdout",
          "text": [
            "\n",
            "1 \n",
            "3 2 \n",
            "6 5 4 \n",
            "10 9 8 7 \n"
          ]
        }
      ]
    },
    {
      "cell_type": "code",
      "source": [
        "#Q6\n",
        "from math import factorial\n",
        "n=7\n",
        "for i in range(n):\n",
        "  for j in range(i+1):\n",
        "    print(factorial(i)//(factorial(j)*factorial(i-j)), end=\" \")\n",
        "  print()"
      ],
      "metadata": {
        "colab": {
          "base_uri": "https://localhost:8080/"
        },
        "id": "eTbDAgiOFYqW",
        "outputId": "649386c5-c340-4d6f-fde6-04acd545fc40"
      },
      "execution_count": 48,
      "outputs": [
        {
          "output_type": "stream",
          "name": "stdout",
          "text": [
            "1 \n",
            "1 1 \n",
            "1 2 1 \n",
            "1 3 3 1 \n",
            "1 4 6 4 1 \n",
            "1 5 10 10 5 1 \n",
            "1 6 15 20 15 6 1 \n"
          ]
        }
      ]
    },
    {
      "cell_type": "code",
      "source": [
        "#Q7\n",
        "for i in range(1,6):\n",
        "  for j in range(1,6):\n",
        "    if i<=j :\n",
        "      print(j,end=' ')\n",
        "    else:\n",
        "      print(i,end=' ')\n",
        "  print()"
      ],
      "metadata": {
        "colab": {
          "base_uri": "https://localhost:8080/"
        },
        "id": "pR1K-hfm9C7V",
        "outputId": "509eb5bd-31a1-43a0-ebb3-0d18762dbb98"
      },
      "execution_count": 49,
      "outputs": [
        {
          "output_type": "stream",
          "name": "stdout",
          "text": [
            "1 2 3 4 5 \n",
            "2 2 3 4 5 \n",
            "3 3 3 4 5 \n",
            "4 4 4 4 5 \n",
            "5 5 5 5 5 \n"
          ]
        }
      ]
    },
    {
      "cell_type": "code",
      "source": [
        "#Q8\n",
        "for i in range(1,9):\n",
        "  for j in range(1,i+1):\n",
        "    if (j==1):\n",
        "      print(i,\" \",end=\"\")\n",
        "    else:\n",
        "      print(i*j,\" \",end=\"\")\n",
        "  print()"
      ],
      "metadata": {
        "colab": {
          "base_uri": "https://localhost:8080/"
        },
        "id": "_56Xj6XE_whK",
        "outputId": "24b81726-5a56-45b9-fc4b-2548e34e0fa8"
      },
      "execution_count": 50,
      "outputs": [
        {
          "output_type": "stream",
          "name": "stdout",
          "text": [
            "1  \n",
            "2  4  \n",
            "3  6  9  \n",
            "4  8  12  16  \n",
            "5  10  15  20  25  \n",
            "6  12  18  24  30  36  \n",
            "7  14  21  28  35  42  49  \n",
            "8  16  24  32  40  48  56  64  \n"
          ]
        }
      ]
    },
    {
      "cell_type": "code",
      "source": [
        "#Q9\n",
        "rows = 6\n",
        "for i in range(0,rows):\n",
        "  for k in range(i):\n",
        "    print(\" \",end=\"\")\n",
        "  for j in range(i,rows):\n",
        "    print(\"* \", end=\"\")\n",
        "  print(\"\")"
      ],
      "metadata": {
        "id": "2Rn3wlm1B9a5",
        "colab": {
          "base_uri": "https://localhost:8080/"
        },
        "outputId": "c8245da0-a677-40a8-c8da-aeba6e1c680c"
      },
      "execution_count": 51,
      "outputs": [
        {
          "output_type": "stream",
          "name": "stdout",
          "text": [
            "* * * * * * \n",
            " * * * * * \n",
            "  * * * * \n",
            "   * * * \n",
            "    * * \n",
            "     * \n"
          ]
        }
      ]
    },
    {
      "cell_type": "code",
      "source": [
        "#Q10\n",
        "rows = 7\n",
        "x=rows-1\n",
        "for i in range(0,rows):\n",
        "  for k in range(x):\n",
        "    print(\" \",end=\"\")\n",
        "  x-=1\n",
        "  for j in range(0,i+1):\n",
        "    print(\" * \", end=\"\")\n",
        "  print(\"\")"
      ],
      "metadata": {
        "colab": {
          "base_uri": "https://localhost:8080/"
        },
        "id": "TZ49kf8aP_Sh",
        "outputId": "ef3c7f99-c7ce-492a-9ffe-0edb1f2392d2"
      },
      "execution_count": 52,
      "outputs": [
        {
          "output_type": "stream",
          "name": "stdout",
          "text": [
            "       * \n",
            "      *  * \n",
            "     *  *  * \n",
            "    *  *  *  * \n",
            "   *  *  *  *  * \n",
            "  *  *  *  *  *  * \n",
            " *  *  *  *  *  *  * \n"
          ]
        }
      ]
    },
    {
      "cell_type": "code",
      "source": [
        "#Q11\n",
        "rows=6\n",
        "for i in range(0,rows):\n",
        "  for j in range(0,i+1):\n",
        "    print(\"* \",end='')\n",
        "  print(\"\")\n",
        "print(\"\")\n",
        "for i in range(0,rows):\n",
        "  for j in range(i,rows):\n",
        "    print(\"* \",end='')\n",
        "  print(\"\")"
      ],
      "metadata": {
        "colab": {
          "base_uri": "https://localhost:8080/"
        },
        "id": "UjDA-3ZTS_wX",
        "outputId": "44b6867f-7fc5-4a2a-deb0-4579ab08fb15"
      },
      "execution_count": 53,
      "outputs": [
        {
          "output_type": "stream",
          "name": "stdout",
          "text": [
            "* \n",
            "* * \n",
            "* * * \n",
            "* * * * \n",
            "* * * * * \n",
            "* * * * * * \n",
            "\n",
            "* * * * * * \n",
            "* * * * * \n",
            "* * * * \n",
            "* * * \n",
            "* * \n",
            "* \n"
          ]
        }
      ]
    },
    {
      "cell_type": "code",
      "source": [
        "#Q12\n",
        "rows=5\n",
        "for i in range(0,rows):\n",
        "  for j in range(0,i+1):\n",
        "    print(\"* \",end='')\n",
        "  print(\"\")\n",
        "for i in range(0,rows):\n",
        "  if i==0:\n",
        "      continue\n",
        "  for j in range(i,rows):\n",
        "    print(\"* \",end='')\n",
        "  print(\"\")"
      ],
      "metadata": {
        "colab": {
          "base_uri": "https://localhost:8080/"
        },
        "id": "Tm_6GI2iVhrO",
        "outputId": "60bda890-a24e-4b75-cbef-3cc8131f1ce0"
      },
      "execution_count": 54,
      "outputs": [
        {
          "output_type": "stream",
          "name": "stdout",
          "text": [
            "* \n",
            "* * \n",
            "* * * \n",
            "* * * * \n",
            "* * * * * \n",
            "* * * * \n",
            "* * * \n",
            "* * \n",
            "* \n"
          ]
        }
      ]
    },
    {
      "cell_type": "code",
      "source": [
        "#Q13\n",
        "m = 4\n",
        "for i in range(1,6):\n",
        "  for x in range(m):\n",
        "    print(end='  ')\n",
        "  m-=1\n",
        "  print(*['*' for _ in range(0,i)])\n",
        "m = 1\n",
        "for i in range(4,0,-1):\n",
        "  for _ in range(m):\n",
        "    print(end='  ')\n",
        "  m+=1\n",
        "  print(*['*' for _ in range(i)])"
      ],
      "metadata": {
        "colab": {
          "base_uri": "https://localhost:8080/"
        },
        "id": "2i173ZRVYz1h",
        "outputId": "1e348b64-2fdb-4bec-fc1e-31d0bb01fd6e"
      },
      "execution_count": 55,
      "outputs": [
        {
          "output_type": "stream",
          "name": "stdout",
          "text": [
            "        *\n",
            "      * *\n",
            "    * * *\n",
            "  * * * *\n",
            "* * * * *\n",
            "  * * * *\n",
            "    * * *\n",
            "      * *\n",
            "        *\n"
          ]
        }
      ]
    },
    {
      "cell_type": "code",
      "source": [
        "#Q14\n",
        "rows = 5\n",
        "for i in range(0,rows):\n",
        "  for k in range(i):\n",
        "    print(\" \",end=\"\")\n",
        "  for j in range(i,rows):\n",
        "    print(\"* \", end=\"\")\n",
        "  print(\"\")\n",
        "x=rows-1\n",
        "for i in range(0,rows):\n",
        "  for k in range(x):\n",
        "    print(\" \",end=\"\")\n",
        "  x-=1\n",
        "  for j in range(0,i+1):\n",
        "    print(\" *\", end=\"\")\n",
        "  print(\"\")"
      ],
      "metadata": {
        "colab": {
          "base_uri": "https://localhost:8080/"
        },
        "id": "69EhhfTA6j1W",
        "outputId": "9d95747f-69a3-4748-d1af-4fb93f7183a1"
      },
      "execution_count": 56,
      "outputs": [
        {
          "output_type": "stream",
          "name": "stdout",
          "text": [
            "* * * * * \n",
            " * * * * \n",
            "  * * * \n",
            "   * * \n",
            "    * \n",
            "     *\n",
            "    * *\n",
            "   * * *\n",
            "  * * * *\n",
            " * * * * *\n"
          ]
        }
      ]
    },
    {
      "cell_type": "code",
      "source": [
        "#Q15\n",
        "x,y,z=8,0,8\n",
        "for i in range(0,8):\n",
        "  for j in range(0,x):\n",
        "    print(\"*\",end=\"\")\n",
        "  x-=1  \n",
        "  for k in range(0,y):\n",
        "    print(\"_\",end=\"\")\n",
        "  y+=2\n",
        "  for l in range(0,z):\n",
        "    print(\"*\",end=\"\")\n",
        "  z-=1\n",
        "  print(\"\")"
      ],
      "metadata": {
        "colab": {
          "base_uri": "https://localhost:8080/"
        },
        "id": "0IJxVqAr9jkB",
        "outputId": "cf59115b-d78b-415e-a913-87248f32a30c"
      },
      "execution_count": 57,
      "outputs": [
        {
          "output_type": "stream",
          "name": "stdout",
          "text": [
            "****************\n",
            "*******__*******\n",
            "******____******\n",
            "*****______*****\n",
            "****________****\n",
            "***__________***\n",
            "**____________**\n",
            "*______________*\n"
          ]
        }
      ]
    },
    {
      "cell_type": "code",
      "source": [
        ""
      ],
      "metadata": {
        "id": "d4yaJZTI-Ezx"
      },
      "execution_count": null,
      "outputs": []
    }
  ]
}