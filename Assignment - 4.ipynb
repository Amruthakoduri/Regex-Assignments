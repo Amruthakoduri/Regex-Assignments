{
 "cells": [
  {
   "cell_type": "code",
   "execution_count": 16,
   "metadata": {},
   "outputs": [
    {
     "name": "stdout",
     "output_type": "stream",
     "text": [
      "6\n",
      "EVEN\n"
     ]
    }
   ],
   "source": [
    "#1. Take any value from the user, print “odd” if the value entered is odd and print “even” otherwise.\n",
    "n=int(input())\n",
    "if n%2==1:\n",
    "  print(\"ODD\")\n",
    "else:\n",
    "  print(\"EVEN\")"
   ]
  },
  {
   "cell_type": "code",
   "execution_count": 17,
   "metadata": {},
   "outputs": [
    {
     "name": "stdout",
     "output_type": "stream",
     "text": [
      "98\n",
      "Given Value 98 is not a Complex Number.\n"
     ]
    }
   ],
   "source": [
    "\"\"\" 2. Take input from the user and check if the number is a complex number. a complex\n",
    "number is the sum of a real number and an imaginary number. For example: 5+2i \"\"\"\n",
    "n=input()\n",
    "m = complex(n)\n",
    "if isinstance(m,complex) and 'j' in n:\n",
    "  print(f\"Given Value {n} is a Complex Number.\")\n",
    "else:\n",
    "  print(f\"Given Value {n} is not a Complex Number.\")\n",
    "\n",
    "\n"
   ]
  },
  {
   "cell_type": "code",
   "execution_count": 18,
   "metadata": {},
   "outputs": [
    {
     "name": "stdout",
     "output_type": "stream",
     "text": [
      "3\n",
      "56\n",
      "87\n",
      "87\n",
      "C\n"
     ]
    }
   ],
   "source": [
    "\"\"\" 3. Create a program to enter marks from the user out of 100 and display grades as per\n",
    "the following 90-100 (A), 75 to 90 (B), 60 to 75 (C), 45 to 60 (D), 33 to 45 (E) and\n",
    "remaining all are F. \"\"\"\n",
    "\n",
    "a=[]\n",
    "tot=0\n",
    "n=int(input())\n",
    "for i in range(n):\n",
    "  x=int(input())\n",
    "  a.append(x)\n",
    "  tot=+i\n",
    "percent=tot/n*100\n",
    "if percent>=90 :\n",
    "  print(\"A\")\n",
    "elif percent>=75 and percent<90 :\n",
    "  print(\"B\")\n",
    "elif percent>=60 and percent<75 :\n",
    "  print(\"C\")\n",
    "elif percent>=45 and percent<60 :\n",
    "  print(\"D\")\n",
    "elif percent>=33 and percent<45 :\n",
    "  print(\"E\")\n",
    "else:\n",
    "  print(\"F\")"
   ]
  },
  {
   "cell_type": "code",
   "execution_count": 19,
   "metadata": {},
   "outputs": [
    {
     "name": "stdout",
     "output_type": "stream",
     "text": [
      "2\n"
     ]
    }
   ],
   "source": [
    "\"\"\" 4. Say three integers have been given. Determine how many of them are equal to each\n",
    "other. Create a program to print 3 (if all 3 are same), 2 (if 2 are same) and 0 (if all\n",
    "numbers are different) \"\"\"\n",
    "\n",
    "x,y,z=2,3,3\n",
    "if x==y and x==z:\n",
    "  print(\"3\")\n",
    "elif x==y or y==z or x==z:\n",
    "  print(\"2\")\n",
    "else:\n",
    "  print(\"0\")"
   ]
  },
  {
   "cell_type": "code",
   "execution_count": 20,
   "metadata": {},
   "outputs": [
    {
     "name": "stdout",
     "output_type": "stream",
     "text": [
      "209\n",
      "no. of days required to travel 209.0 kms is :2.09\n"
     ]
    }
   ],
   "source": [
    "\"\"\" 5. A truck runs a distance of N kms per day. Write a program to calculate how many\n",
    "days will be taken to cover M kms. \"\"\"\n",
    "m=100\n",
    "km=float(input())\n",
    "print(f\"no. of days required to travel {km} kms is :{round(km/m,2)}\")\n"
   ]
  },
  {
   "cell_type": "code",
   "execution_count": 21,
   "metadata": {},
   "outputs": [
    {
     "name": "stdout",
     "output_type": "stream",
     "text": [
      "Enter your Name: amrutha\n",
      "Enter your Surname: sai\n",
      "Enter your Phone Number: 49475664\n",
      "Enter Hobbies <Seperated by ' ' >singing reading\n",
      "amruthasai49475664singingreading\n"
     ]
    }
   ],
   "source": [
    "\"\"\" 6. Pass your name, surname, phone_no, hobbies in a python script and get all the\n",
    "passed values in a line without space. \"\"\"\n",
    "name = input(\"Enter your Name: \")\n",
    "surname = input(\"Enter your Surname: \")\n",
    "phone = input(\"Enter your Phone Number: \")\n",
    "hobbies = list(map(str,input(\"Enter Hobbies <Seperated by ' ' >\").split(' ')))\n",
    "\n",
    "print(name,surname,phone,''.join(hobbies),sep='')"
   ]
  },
  {
   "cell_type": "code",
   "execution_count": 22,
   "metadata": {},
   "outputs": [
    {
     "name": "stdout",
     "output_type": "stream",
     "text": [
      "R S 8\n",
      "ruth\n",
      "i\n",
      "a m r u t h a s a i "
     ]
    }
   ],
   "source": [
    "\"\"\" 7. Write a python script to\n",
    "a. separate 2,3,6 characters from your ID.\n",
    "b. To print character 2 to 5 in your name and surname.\n",
    "c. Print all the characters of your name and surname \"\"\"\n",
    "\n",
    "id = 'DIRSS38793'\n",
    "print(*[id[i] for i in([2,3,6])])\n",
    "\n",
    "print(name[2:6])\n",
    "print(surname[2:6])\n",
    "\n",
    "for i in name+surname:\n",
    "    print(i,end=' ')\n"
   ]
  },
  {
   "cell_type": "code",
   "execution_count": 23,
   "metadata": {},
   "outputs": [
    {
     "name": "stdout",
     "output_type": "stream",
     "text": [
      "I'm amrutha. My ID is 7521301.\n",
      "My contact no is 75909653.\n",
      "I have joined REGex Software Services for  DataScience Specialization Batch D- January 2022.\n",
      "I live in Ongole.I am currently working as a software engineer.\n",
      "\n",
      "Total Number of Lines :  4\n",
      "\n",
      "Total Number of words : [\"I'm\", 'amrutha', 'My', 'ID', 'is', '7521301', 'My', 'contact', 'no', 'is', '75909653', 'I', 'have', 'joined', 'REGex', 'Software', 'Services', 'for', 'DataScience', 'Specialization', 'Batch', 'D-', 'January', '2022', 'I', 'live', 'in', 'OngoleI', 'am', 'currently', 'working', 'as', 'a', 'software', 'engineer']\n",
      "\n",
      "Total Number of numbers : ['2022', '7521301', '75909653']\n",
      "\n",
      "Total Number of characters:  154\n"
     ]
    }
   ],
   "source": [
    "\"\"\" 8. Write your short introduction in a text file. Your introduction consists of Name, Id,\n",
    "contact number, Address, Stream, Joining date, Qualification, Hobbies, Strength\n",
    "and weakness. Pass this file to python. Your task is to calculate total characters,\n",
    "numbers, words and lines used in this introduction file. \"\"\"\n",
    "#Opening the File\n",
    "file = open(\"introduction.txt\",'r')\n",
    "data = file.read()\n",
    "print(data)\n",
    "print()\n",
    "test = data\n",
    "\n",
    "\n",
    "#splitting the file into Lines\n",
    "lines = test.split('\\n')\n",
    "print(\"Total Number of Lines : \",len(lines))\n",
    "print()\n",
    "\n",
    "#splitting the Lines into Words\n",
    "words = []\n",
    "for line in lines:\n",
    "    for word in line.split():\n",
    "        word = word.replace('.','')\n",
    "        words.append(word)                  \n",
    "print(\"Total Number of words :\",words)  \n",
    "print()\n",
    "\n",
    "# seperating numbers from the words\n",
    "numbers = sorted(words)[0:3]            \n",
    "print(\"Total Number of numbers :\",numbers)\n",
    "print()\n",
    "\n",
    "#removing numbers from words\n",
    "for num in numbers:\n",
    "  words.remove(num)\n",
    "\n",
    "\n",
    "#Counting Characters in the file\n",
    "charcount = 0\n",
    "for word in words:\n",
    "    for char in word:\n",
    "        charcount+=1\n",
    "print(\"Total Number of characters: \",charcount)   \n"
   ]
  },
  {
   "cell_type": "code",
   "execution_count": 24,
   "metadata": {},
   "outputs": [
    {
     "name": "stdout",
     "output_type": "stream",
     "text": [
      "Enter First Number :56\n",
      "Enter Second Number :0\n",
      "\n",
      "\u001b[1mDivision by Zero is Not Possible... Exiting Program...!!!\n",
      " <class 'ZeroDivisionError'>\n"
     ]
    }
   ],
   "source": [
    "\"\"\"9. Create a function that performs division of numbers. Since divide by zero gives an\n",
    "infinite so if a number which is denominator and 0 must give an exception while\n",
    "performing division operation. \"\"\"\n",
    "\n",
    "def division(a,b):\n",
    "    return round(a/b,2)\n",
    "\n",
    "a= int(input(\"Enter First Number :\"))\n",
    "b= int(input(\"Enter Second Number :\"))\n",
    "try: \n",
    "    print(division(a,b))\n",
    "except:\n",
    "    print(f\"\\n\\033[1mDivision by Zero is Not Possible... Exiting Program...!!!\\n {ZeroDivisionError}\")\n"
   ]
  },
  {
   "cell_type": "code",
   "execution_count": 25,
   "metadata": {},
   "outputs": [
    {
     "name": "stdout",
     "output_type": "stream",
     "text": [
      "I'm amrutha. My ID is 7521301.\n",
      "My contact no is 75909653.\n",
      "I have joined REGex Software Services for  DataScience Specialization Batch D- January 2022.\n",
      "I live in Ongole.I am currently working as a software engineer.\n",
      "\n",
      "\u001b[1mCannot Write to a File in Read Only Mode...!!! Closing the Program..\n"
     ]
    }
   ],
   "source": [
    "\"\"\" 10. Create a file in read only mode. Open this file using python and try to write your\n",
    "contact number in that file. As this file is write protected so an exception should\n",
    "occur. Handle this exception using python script. \"\"\"\n",
    "\n",
    "#Opening a file in ReadOnly mode\n",
    "file = open(\"introduction.txt\",'r')\n",
    "text = file.read()\n",
    "print(text)\n",
    "print()\n",
    "\n",
    "#Handling the Exception\n",
    "try:\n",
    "    file = file.write(\"My Contact Number is 9999999999\")    \n",
    "except:\n",
    "    print(f\"\\033[1mCannot Write to a File in Read Only Mode...!!! Closing the Program..\")"
   ]
  },
  {
   "cell_type": "code",
   "execution_count": 26,
   "metadata": {},
   "outputs": [
    {
     "name": "stdout",
     "output_type": "stream",
     "text": [
      "Stefan\n",
      "Bennett\n",
      "Klaus\n",
      "\n",
      "Yes, Stefan is a vampire\n",
      "Yes, bennett is a witch\n",
      "tyler not found in SuperNatural Creatures\n"
     ]
    }
   ],
   "source": [
    "# 11. Create an html generator using:\n",
    "# a. A base class with a couple methods\n",
    "\n",
    "class SuperNatural():\n",
    "    def __init__(self,name,kind,issupernatural = True):\n",
    "        self.name=name\n",
    "        self.kind=kind\n",
    "        self.issupernatural = issupernatural\n",
    "    \n",
    "    #method1\n",
    "    def get_name(self):\n",
    "        return self.name\n",
    "    \n",
    "    #method2\n",
    "    def check_kind(self,name,kind):\n",
    "        if self.name.lower() == name.lower():\n",
    "            if self.kind.lower() == kind.lower():\n",
    "                return f\"Yes, {name} is a {kind}\"\n",
    "            else:\n",
    "                return f\"No, {name} is not a {kind}\"\n",
    "        else:\n",
    "            return f\"{name} not found in SuperNatural Creatures\"\n",
    "    #method3\n",
    "    def display_status(self):\n",
    "        print(\"Given Object is a SUPERNATURAL Class...\")\n",
    "\n",
    "vamp = SuperNatural(\"Stefan\",\"Vampire\",\"True\")\n",
    "witch = SuperNatural(\"Bennett\",\"Witch\",\"True\")\n",
    "were = SuperNatural(\"Klaus\",\"hybrid\",\"True\")\n",
    "\n",
    "print(vamp.get_name())\n",
    "print(witch.get_name())\n",
    "print(were.get_name())\n",
    "print()\n",
    "\n",
    "print(vamp.check_kind(\"Stefan\",\"vampire\"))\n",
    "print(witch.check_kind(\"bennett\",\"witch\"))\n",
    "print(were.check_kind(\"tyler\",'hybrid'))"
   ]
  },
  {
   "cell_type": "code",
   "execution_count": 27,
   "metadata": {},
   "outputs": [
    {
     "name": "stdout",
     "output_type": "stream",
     "text": [
      "caroline Vampire SuperNatural= True\n",
      "lily Human SuperNatural= False\n"
     ]
    }
   ],
   "source": [
    "#11 b. Subclass overriding class attributes\n",
    "\n",
    "class Humans(SuperNatural):\n",
    "    def __init__(self,name,kind,issupernatural = False): # Here subclass overrides class attributes\n",
    "        super().__init__(name,kind,issupernatural)\n",
    "        self.issupernatural = issupernatural\n",
    "    def display_status(self):\n",
    "        print(\"Given Object is a HUMAN/Sub Class...\")\n",
    "    \n",
    "vampire = SuperNatural(\"caroline\",\"Vampire\")\n",
    "human = Humans(\"lily\",\"Human\")\n",
    "\n",
    "print(vampire.name,vampire.kind,\"SuperNatural=\",vampire.issupernatural)\n",
    "print(human.name,human.kind,\"SuperNatural=\",human.issupernatural)"
   ]
  },
  {
   "cell_type": "code",
   "execution_count": 28,
   "metadata": {},
   "outputs": [
    {
     "name": "stdout",
     "output_type": "stream",
     "text": [
      "Given Object is a SUPERNATURAL Class...\n",
      "Given Object is a HUMAN/Sub Class...\n"
     ]
    }
   ],
   "source": [
    "#11 c. Subclass overriding a method\n",
    "\n",
    "witch = SuperNatural(\"Davina\",\"Witch\")\n",
    "human = Humans(\"Hope\",\"Human\")\n",
    "\n",
    "#Same method overriden \n",
    "witch.display_status()\n",
    "human.display_status()"
   ]
  },
  {
   "cell_type": "code",
   "execution_count": 29,
   "metadata": {},
   "outputs": [
    {
     "name": "stdout",
     "output_type": "stream",
     "text": [
      "\u001b[1mFrom Parent Class Constructor\n",
      "Name = Amrutha\n",
      "no = 58\n",
      "\n",
      "\u001b[1mFrom Child Class Constructor\n",
      "Marks = 90\n",
      "School = Montessori\n",
      "Name = 90\n",
      "no = Montessori\n"
     ]
    }
   ],
   "source": [
    "#11 d. Subclass overriding the ___init__ \n",
    "\n",
    "class Person():\n",
    "    def __init__(self,name,no):\n",
    "        print(\"Name =\",name)\n",
    "        print(\"no =\",no)\n",
    "\n",
    "class Details(Person):\n",
    "    def __init__(self,marks,school,*arguments):\n",
    "        print(\"Marks =\",marks)\n",
    "        print(\"School =\",school)\n",
    "        super(Details,self).__init__(marks,school)\n",
    "        \n",
    "print(\"\\033[1mFrom Parent Class Constructor\")\n",
    "first = Person(\"Amrutha\",\"58\")\n",
    "print()\n",
    "\n",
    "print(\"\\033[1mFrom Child Class Constructor\")\n",
    "child = Details(90,\"Montessori\",\"Amrutha\",10023)\n",
    "\n"
   ]
  },
  {
   "cell_type": "code",
   "execution_count": null,
   "metadata": {},
   "outputs": [],
   "source": []
  },
  {
   "cell_type": "code",
   "execution_count": null,
   "metadata": {},
   "outputs": [],
   "source": []
  }
 ],
 "metadata": {
  "kernelspec": {
   "display_name": "Python 3",
   "language": "python",
   "name": "python3"
  },
  "language_info": {
   "codemirror_mode": {
    "name": "ipython",
    "version": 3
   },
   "file_extension": ".py",
   "mimetype": "text/x-python",
   "name": "python",
   "nbconvert_exporter": "python",
   "pygments_lexer": "ipython3",
   "version": "3.8.5"
  }
 },
 "nbformat": 4,
 "nbformat_minor": 4
}
